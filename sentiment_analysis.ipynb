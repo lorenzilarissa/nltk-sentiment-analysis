{
 "cells": [
  {
   "cell_type": "code",
   "execution_count": 4,
   "metadata": {},
   "outputs": [],
   "source": [
    "# Retrieve the 'sentences' variable\n",
    "%store -r sentences"
   ]
  },
  {
   "cell_type": "code",
   "execution_count": 5,
   "metadata": {},
   "outputs": [
    {
     "name": "stderr",
     "output_type": "stream",
     "text": [
      "[nltk_data] Downloading package vader_lexicon to C:\\Users\\Larissa\n",
      "[nltk_data]     Lorenzi\\AppData\\Roaming\\nltk_data...\n",
      "[nltk_data]   Package vader_lexicon is already up-to-date!\n"
     ]
    },
    {
     "data": {
      "text/plain": [
       "True"
      ]
     },
     "execution_count": 5,
     "metadata": {},
     "output_type": "execute_result"
    }
   ],
   "source": [
    "import nltk\n",
    "from nltk.sentiment import SentimentIntensityAnalyzer\n",
    "\n",
    "nltk.download('vader_lexicon')"
   ]
  },
  {
   "cell_type": "code",
   "execution_count": 6,
   "metadata": {},
   "outputs": [
    {
     "name": "stdout",
     "output_type": "stream",
     "text": [
      "Positive sentence: i three vision india .\n",
      "Neutral sentence: in 3000 year histori , peopl world come invad us , captur land , conquer mind .\n",
      "Neutral sentence: from alexand onward , greek , turk , mogul , portugues , british , french , dutch , came loot us , took .\n",
      "Neutral sentence: yet done nation .\n",
      "Neutral sentence: we conquer anyon .\n",
      "Neutral sentence: we grab land , cultur , histori tri enforc way life .\n",
      "Neutral sentence: whi ?\n",
      "Positive sentence: becaus respect freedom others.that first vision freedom .\n",
      "Negative sentence: i believ india got first vision 1857 , start war independ .\n",
      "Positive sentence: it freedom must protect nurtur build .\n",
      "Positive sentence: if free , one respect us .\n",
      "Positive sentence: my second vision india ’ develop .\n",
      "Neutral sentence: for fifti year develop nation .\n",
      "Neutral sentence: it time see develop nation .\n",
      "Positive sentence: we among top 5 nation world term gdp .\n",
      "Positive sentence: we 10 percent growth rate area .\n",
      "Neutral sentence: our poverti level fall .\n",
      "Neutral sentence: our achiev global recognis today .\n",
      "Negative sentence: yet lack self-confid see develop nation , self-reli self-assur .\n",
      "Neutral sentence: isn ’ incorrect ?\n",
      "Positive sentence: i third vision .\n",
      "Neutral sentence: india must stand world .\n",
      "Positive sentence: becaus i believ unless india stand world , one respect us .\n",
      "Positive sentence: onli strength respect strength .\n",
      "Positive sentence: we must strong militari power also econom power .\n",
      "Neutral sentence: both must go hand-in-hand .\n",
      "Positive sentence: my good fortun work three great mind .\n",
      "Neutral sentence: dr. vikram sarabhai dept .\n",
      "Positive sentence: space , professor satish dhawan , succeed dr. brahm prakash , father nuclear materi .\n",
      "Positive sentence: i lucki work three close consid great opportun life .\n",
      "Neutral sentence: i see four mileston career\n"
     ]
    }
   ],
   "source": [
    "# Instantiate the SentimentIntensityAnalyzer\n",
    "sia = SentimentIntensityAnalyzer()\n",
    "\n",
    "# Initialize counters\n",
    "positive_count = 0\n",
    "negative_count = 0\n",
    "\n",
    "# Perform sentiment analysis on each sentence\n",
    "for sentence in sentences:\n",
    "    sentiment_scores = sia.polarity_scores(sentence)\n",
    "    sentiment = sentiment_scores['compound']\n",
    "\n",
    "    if sentiment >= 0.05:\n",
    "        positive_count += 1\n",
    "        print(\"Positive sentence:\", sentence)\n",
    "    elif sentiment <= -0.05:\n",
    "        negative_count += 1\n",
    "        print(\"Negative sentence:\", sentence)\n",
    "    else:\n",
    "        print(\"Neutral sentence:\", sentence)"
   ]
  },
  {
   "cell_type": "code",
   "execution_count": 7,
   "metadata": {},
   "outputs": [
    {
     "name": "stdout",
     "output_type": "stream",
     "text": [
      "\n",
      "--- Sentiment Analysis Summary ---\n",
      "Total Positive Sentences: 14\n",
      "Total Negative Sentences: 2\n",
      "Total Neutral Sentences: 15\n"
     ]
    }
   ],
   "source": [
    "# Print sentiment analysis summary\n",
    "print(\"\\n--- Sentiment Analysis Summary ---\")\n",
    "print(\"Total Positive Sentences:\", positive_count)\n",
    "print(\"Total Negative Sentences:\", negative_count)\n",
    "print(\"Total Neutral Sentences:\", len(sentences) - positive_count - negative_count)"
   ]
  },
  {
   "cell_type": "code",
   "execution_count": 8,
   "metadata": {},
   "outputs": [],
   "source": [
    "# Determine overall sentiment of the text\n",
    "overall_sentiment = ''\n",
    "if positive_count > negative_count:\n",
    "    overall_sentiment = \"Positive\"\n",
    "elif negative_count > positive_count:\n",
    "    overall_sentiment = \"Negative\"\n",
    "else:\n",
    "    overall_sentiment = \"Neutral\""
   ]
  },
  {
   "cell_type": "code",
   "execution_count": 9,
   "metadata": {},
   "outputs": [
    {
     "name": "stdout",
     "output_type": "stream",
     "text": [
      "Overall Sentiment of the Text: Positive\n"
     ]
    }
   ],
   "source": [
    "print(\"Overall Sentiment of the Text:\", overall_sentiment)"
   ]
  },
  {
   "cell_type": "code",
   "execution_count": null,
   "metadata": {},
   "outputs": [],
   "source": []
  },
  {
   "cell_type": "code",
   "execution_count": null,
   "metadata": {},
   "outputs": [],
   "source": []
  }
 ],
 "metadata": {
  "kernelspec": {
   "display_name": "Python 3",
   "language": "python",
   "name": "python3"
  },
  "language_info": {
   "codemirror_mode": {
    "name": "ipython",
    "version": 3
   },
   "file_extension": ".py",
   "mimetype": "text/x-python",
   "name": "python",
   "nbconvert_exporter": "python",
   "pygments_lexer": "ipython3",
   "version": "3.11.3"
  },
  "orig_nbformat": 4
 },
 "nbformat": 4,
 "nbformat_minor": 2
}
